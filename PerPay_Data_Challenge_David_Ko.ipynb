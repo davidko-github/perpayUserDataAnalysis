{
  "nbformat": 4,
  "nbformat_minor": 0,
  "metadata": {
    "colab": {
      "provenance": []
    },
    "kernelspec": {
      "name": "python3",
      "display_name": "Python 3"
    },
    "language_info": {
      "name": "python"
    }
  },
  "cells": [
    {
      "cell_type": "code",
      "source": [
        "from google.colab import drive\n",
        "drive.mount('/content/drive')\n",
        "loan_path = \"/content/drive/My Drive/Perpay Data Challenge/loan_dataset.csv\"\n",
        "user_path = \"/content/drive/My Drive/Perpay Data Challenge/user_dataset.csv\""
      ],
      "metadata": {
        "id": "SXJOyin5fUtQ",
        "colab": {
          "base_uri": "https://localhost:8080/"
        },
        "outputId": "056894f3-064e-48ab-c7f6-e3b790fe2f16"
      },
      "execution_count": 1,
      "outputs": [
        {
          "output_type": "stream",
          "name": "stdout",
          "text": [
            "Drive already mounted at /content/drive; to attempt to forcibly remount, call drive.mount(\"/content/drive\", force_remount=True).\n"
          ]
        }
      ]
    },
    {
      "cell_type": "code",
      "source": [
        "import io\n",
        "import numpy as np\n",
        "import pandas as pd\n",
        "import seaborn as sns\n",
        "import matplotlib.pyplot as plt\n",
        "loan = pd.read_csv(loan_path)\n",
        "user = pd.read_csv(user_path)"
      ],
      "metadata": {
        "id": "9AZNXd-9n2j9"
      },
      "execution_count": 31,
      "outputs": []
    },
    {
      "cell_type": "code",
      "source": [
        "loan.head()\n"
      ],
      "metadata": {
        "colab": {
          "base_uri": "https://localhost:8080/",
          "height": 487
        },
        "id": "KPL4xzlQn2mK",
        "outputId": "e82f003d-7665-4ea7-e6ac-1dc00a98af6b"
      },
      "execution_count": 32,
      "outputs": [
        {
          "output_type": "execute_result",
          "data": {
            "text/plain": [
              "                                loan_id                               user_id  \\\n",
              "0  27f95ba4-e56f-4222-bc92-d73bf8d7d669  beca750a-2041-4c26-8154-6aa85ae9b245   \n",
              "1  040d9651-3ef2-46ed-9e28-6ad12bf00585  3401d86c-898b-4d6f-ba67-08b2bc005d5f   \n",
              "2  71a279d5-5bce-4ea2-9e98-ec9d994256b1  ef4ed8ea-17a4-4f41-a1fd-84b6fe09751f   \n",
              "3  706b5235-8424-4e91-b813-328dc5603e8e  1fa64260-49bf-474e-8800-893c0c455a06   \n",
              "4  d850645f-a7fe-4cd1-97db-8f1ac1364a67  90f815e9-c931-4d9e-aa79-f136bc5f227c   \n",
              "\n",
              "   amount  number_of_payments  user_pinwheel_eligible_at_ap  \\\n",
              "0  471.48                 8.0                             0   \n",
              "1  309.98                 8.0                             0   \n",
              "2  523.98                 8.0                             1   \n",
              "3  369.96                 4.0                             0   \n",
              "4  479.98                 8.0                             0   \n",
              "\n",
              "                    approval_type        application_start_ts  \\\n",
              "0                             NaN   2020-10-13 00:04:43.64499   \n",
              "1                             NaN  2020-10-13 00:24:50.475201   \n",
              "2  underwriting.auto.ftb_decision  2020-10-13 00:26:48.749278   \n",
              "3                             NaN  2020-10-13 01:08:06.763585   \n",
              "4                             NaN  2020-10-13 01:10:40.530583   \n",
              "\n",
              "      application_complete_ts         awaiting_payment_ts repayment_ts  \\\n",
              "0  2020-10-13 00:08:29.744502                         NaN          NaN   \n",
              "1                         NaN                         NaN          NaN   \n",
              "2  2020-10-13 00:27:53.698868  2020-10-13 12:19:55.282708          NaN   \n",
              "3                         NaN                         NaN          NaN   \n",
              "4                         NaN                         NaN          NaN   \n",
              "\n",
              "                  canceled_ts              cancellation_type risk_tier_at_uw  \n",
              "0  2020-11-03 06:00:09.020005         automated.verification              T0  \n",
              "1  2020-10-27 09:00:09.906958  automated.application_started              T0  \n",
              "2   2021-02-11 06:30:08.28502     automated.awaiting_payment              T0  \n",
              "3  2020-10-27 09:00:08.296637  automated.application_started              T0  \n",
              "4  2020-10-27 09:00:08.090965  automated.application_started              T0  "
            ],
            "text/html": [
              "\n",
              "  <div id=\"df-3312bd07-e557-427c-a1ae-3978af76eb9b\" class=\"colab-df-container\">\n",
              "    <div>\n",
              "<style scoped>\n",
              "    .dataframe tbody tr th:only-of-type {\n",
              "        vertical-align: middle;\n",
              "    }\n",
              "\n",
              "    .dataframe tbody tr th {\n",
              "        vertical-align: top;\n",
              "    }\n",
              "\n",
              "    .dataframe thead th {\n",
              "        text-align: right;\n",
              "    }\n",
              "</style>\n",
              "<table border=\"1\" class=\"dataframe\">\n",
              "  <thead>\n",
              "    <tr style=\"text-align: right;\">\n",
              "      <th></th>\n",
              "      <th>loan_id</th>\n",
              "      <th>user_id</th>\n",
              "      <th>amount</th>\n",
              "      <th>number_of_payments</th>\n",
              "      <th>user_pinwheel_eligible_at_ap</th>\n",
              "      <th>approval_type</th>\n",
              "      <th>application_start_ts</th>\n",
              "      <th>application_complete_ts</th>\n",
              "      <th>awaiting_payment_ts</th>\n",
              "      <th>repayment_ts</th>\n",
              "      <th>canceled_ts</th>\n",
              "      <th>cancellation_type</th>\n",
              "      <th>risk_tier_at_uw</th>\n",
              "    </tr>\n",
              "  </thead>\n",
              "  <tbody>\n",
              "    <tr>\n",
              "      <th>0</th>\n",
              "      <td>27f95ba4-e56f-4222-bc92-d73bf8d7d669</td>\n",
              "      <td>beca750a-2041-4c26-8154-6aa85ae9b245</td>\n",
              "      <td>471.48</td>\n",
              "      <td>8.0</td>\n",
              "      <td>0</td>\n",
              "      <td>NaN</td>\n",
              "      <td>2020-10-13 00:04:43.64499</td>\n",
              "      <td>2020-10-13 00:08:29.744502</td>\n",
              "      <td>NaN</td>\n",
              "      <td>NaN</td>\n",
              "      <td>2020-11-03 06:00:09.020005</td>\n",
              "      <td>automated.verification</td>\n",
              "      <td>T0</td>\n",
              "    </tr>\n",
              "    <tr>\n",
              "      <th>1</th>\n",
              "      <td>040d9651-3ef2-46ed-9e28-6ad12bf00585</td>\n",
              "      <td>3401d86c-898b-4d6f-ba67-08b2bc005d5f</td>\n",
              "      <td>309.98</td>\n",
              "      <td>8.0</td>\n",
              "      <td>0</td>\n",
              "      <td>NaN</td>\n",
              "      <td>2020-10-13 00:24:50.475201</td>\n",
              "      <td>NaN</td>\n",
              "      <td>NaN</td>\n",
              "      <td>NaN</td>\n",
              "      <td>2020-10-27 09:00:09.906958</td>\n",
              "      <td>automated.application_started</td>\n",
              "      <td>T0</td>\n",
              "    </tr>\n",
              "    <tr>\n",
              "      <th>2</th>\n",
              "      <td>71a279d5-5bce-4ea2-9e98-ec9d994256b1</td>\n",
              "      <td>ef4ed8ea-17a4-4f41-a1fd-84b6fe09751f</td>\n",
              "      <td>523.98</td>\n",
              "      <td>8.0</td>\n",
              "      <td>1</td>\n",
              "      <td>underwriting.auto.ftb_decision</td>\n",
              "      <td>2020-10-13 00:26:48.749278</td>\n",
              "      <td>2020-10-13 00:27:53.698868</td>\n",
              "      <td>2020-10-13 12:19:55.282708</td>\n",
              "      <td>NaN</td>\n",
              "      <td>2021-02-11 06:30:08.28502</td>\n",
              "      <td>automated.awaiting_payment</td>\n",
              "      <td>T0</td>\n",
              "    </tr>\n",
              "    <tr>\n",
              "      <th>3</th>\n",
              "      <td>706b5235-8424-4e91-b813-328dc5603e8e</td>\n",
              "      <td>1fa64260-49bf-474e-8800-893c0c455a06</td>\n",
              "      <td>369.96</td>\n",
              "      <td>4.0</td>\n",
              "      <td>0</td>\n",
              "      <td>NaN</td>\n",
              "      <td>2020-10-13 01:08:06.763585</td>\n",
              "      <td>NaN</td>\n",
              "      <td>NaN</td>\n",
              "      <td>NaN</td>\n",
              "      <td>2020-10-27 09:00:08.296637</td>\n",
              "      <td>automated.application_started</td>\n",
              "      <td>T0</td>\n",
              "    </tr>\n",
              "    <tr>\n",
              "      <th>4</th>\n",
              "      <td>d850645f-a7fe-4cd1-97db-8f1ac1364a67</td>\n",
              "      <td>90f815e9-c931-4d9e-aa79-f136bc5f227c</td>\n",
              "      <td>479.98</td>\n",
              "      <td>8.0</td>\n",
              "      <td>0</td>\n",
              "      <td>NaN</td>\n",
              "      <td>2020-10-13 01:10:40.530583</td>\n",
              "      <td>NaN</td>\n",
              "      <td>NaN</td>\n",
              "      <td>NaN</td>\n",
              "      <td>2020-10-27 09:00:08.090965</td>\n",
              "      <td>automated.application_started</td>\n",
              "      <td>T0</td>\n",
              "    </tr>\n",
              "  </tbody>\n",
              "</table>\n",
              "</div>\n",
              "    <div class=\"colab-df-buttons\">\n",
              "\n",
              "  <div class=\"colab-df-container\">\n",
              "    <button class=\"colab-df-convert\" onclick=\"convertToInteractive('df-3312bd07-e557-427c-a1ae-3978af76eb9b')\"\n",
              "            title=\"Convert this dataframe to an interactive table.\"\n",
              "            style=\"display:none;\">\n",
              "\n",
              "  <svg xmlns=\"http://www.w3.org/2000/svg\" height=\"24px\" viewBox=\"0 -960 960 960\">\n",
              "    <path d=\"M120-120v-720h720v720H120Zm60-500h600v-160H180v160Zm220 220h160v-160H400v160Zm0 220h160v-160H400v160ZM180-400h160v-160H180v160Zm440 0h160v-160H620v160ZM180-180h160v-160H180v160Zm440 0h160v-160H620v160Z\"/>\n",
              "  </svg>\n",
              "    </button>\n",
              "\n",
              "  <style>\n",
              "    .colab-df-container {\n",
              "      display:flex;\n",
              "      gap: 12px;\n",
              "    }\n",
              "\n",
              "    .colab-df-convert {\n",
              "      background-color: #E8F0FE;\n",
              "      border: none;\n",
              "      border-radius: 50%;\n",
              "      cursor: pointer;\n",
              "      display: none;\n",
              "      fill: #1967D2;\n",
              "      height: 32px;\n",
              "      padding: 0 0 0 0;\n",
              "      width: 32px;\n",
              "    }\n",
              "\n",
              "    .colab-df-convert:hover {\n",
              "      background-color: #E2EBFA;\n",
              "      box-shadow: 0px 1px 2px rgba(60, 64, 67, 0.3), 0px 1px 3px 1px rgba(60, 64, 67, 0.15);\n",
              "      fill: #174EA6;\n",
              "    }\n",
              "\n",
              "    .colab-df-buttons div {\n",
              "      margin-bottom: 4px;\n",
              "    }\n",
              "\n",
              "    [theme=dark] .colab-df-convert {\n",
              "      background-color: #3B4455;\n",
              "      fill: #D2E3FC;\n",
              "    }\n",
              "\n",
              "    [theme=dark] .colab-df-convert:hover {\n",
              "      background-color: #434B5C;\n",
              "      box-shadow: 0px 1px 3px 1px rgba(0, 0, 0, 0.15);\n",
              "      filter: drop-shadow(0px 1px 2px rgba(0, 0, 0, 0.3));\n",
              "      fill: #FFFFFF;\n",
              "    }\n",
              "  </style>\n",
              "\n",
              "    <script>\n",
              "      const buttonEl =\n",
              "        document.querySelector('#df-3312bd07-e557-427c-a1ae-3978af76eb9b button.colab-df-convert');\n",
              "      buttonEl.style.display =\n",
              "        google.colab.kernel.accessAllowed ? 'block' : 'none';\n",
              "\n",
              "      async function convertToInteractive(key) {\n",
              "        const element = document.querySelector('#df-3312bd07-e557-427c-a1ae-3978af76eb9b');\n",
              "        const dataTable =\n",
              "          await google.colab.kernel.invokeFunction('convertToInteractive',\n",
              "                                                    [key], {});\n",
              "        if (!dataTable) return;\n",
              "\n",
              "        const docLinkHtml = 'Like what you see? Visit the ' +\n",
              "          '<a target=\"_blank\" href=https://colab.research.google.com/notebooks/data_table.ipynb>data table notebook</a>'\n",
              "          + ' to learn more about interactive tables.';\n",
              "        element.innerHTML = '';\n",
              "        dataTable['output_type'] = 'display_data';\n",
              "        await google.colab.output.renderOutput(dataTable, element);\n",
              "        const docLink = document.createElement('div');\n",
              "        docLink.innerHTML = docLinkHtml;\n",
              "        element.appendChild(docLink);\n",
              "      }\n",
              "    </script>\n",
              "  </div>\n",
              "\n",
              "\n",
              "<div id=\"df-d559770a-bcd5-40e7-9057-e22d48978e7f\">\n",
              "  <button class=\"colab-df-quickchart\" onclick=\"quickchart('df-d559770a-bcd5-40e7-9057-e22d48978e7f')\"\n",
              "            title=\"Suggest charts.\"\n",
              "            style=\"display:none;\">\n",
              "\n",
              "<svg xmlns=\"http://www.w3.org/2000/svg\" height=\"24px\"viewBox=\"0 0 24 24\"\n",
              "     width=\"24px\">\n",
              "    <g>\n",
              "        <path d=\"M19 3H5c-1.1 0-2 .9-2 2v14c0 1.1.9 2 2 2h14c1.1 0 2-.9 2-2V5c0-1.1-.9-2-2-2zM9 17H7v-7h2v7zm4 0h-2V7h2v10zm4 0h-2v-4h2v4z\"/>\n",
              "    </g>\n",
              "</svg>\n",
              "  </button>\n",
              "\n",
              "<style>\n",
              "  .colab-df-quickchart {\n",
              "      --bg-color: #E8F0FE;\n",
              "      --fill-color: #1967D2;\n",
              "      --hover-bg-color: #E2EBFA;\n",
              "      --hover-fill-color: #174EA6;\n",
              "      --disabled-fill-color: #AAA;\n",
              "      --disabled-bg-color: #DDD;\n",
              "  }\n",
              "\n",
              "  [theme=dark] .colab-df-quickchart {\n",
              "      --bg-color: #3B4455;\n",
              "      --fill-color: #D2E3FC;\n",
              "      --hover-bg-color: #434B5C;\n",
              "      --hover-fill-color: #FFFFFF;\n",
              "      --disabled-bg-color: #3B4455;\n",
              "      --disabled-fill-color: #666;\n",
              "  }\n",
              "\n",
              "  .colab-df-quickchart {\n",
              "    background-color: var(--bg-color);\n",
              "    border: none;\n",
              "    border-radius: 50%;\n",
              "    cursor: pointer;\n",
              "    display: none;\n",
              "    fill: var(--fill-color);\n",
              "    height: 32px;\n",
              "    padding: 0;\n",
              "    width: 32px;\n",
              "  }\n",
              "\n",
              "  .colab-df-quickchart:hover {\n",
              "    background-color: var(--hover-bg-color);\n",
              "    box-shadow: 0 1px 2px rgba(60, 64, 67, 0.3), 0 1px 3px 1px rgba(60, 64, 67, 0.15);\n",
              "    fill: var(--button-hover-fill-color);\n",
              "  }\n",
              "\n",
              "  .colab-df-quickchart-complete:disabled,\n",
              "  .colab-df-quickchart-complete:disabled:hover {\n",
              "    background-color: var(--disabled-bg-color);\n",
              "    fill: var(--disabled-fill-color);\n",
              "    box-shadow: none;\n",
              "  }\n",
              "\n",
              "  .colab-df-spinner {\n",
              "    border: 2px solid var(--fill-color);\n",
              "    border-color: transparent;\n",
              "    border-bottom-color: var(--fill-color);\n",
              "    animation:\n",
              "      spin 1s steps(1) infinite;\n",
              "  }\n",
              "\n",
              "  @keyframes spin {\n",
              "    0% {\n",
              "      border-color: transparent;\n",
              "      border-bottom-color: var(--fill-color);\n",
              "      border-left-color: var(--fill-color);\n",
              "    }\n",
              "    20% {\n",
              "      border-color: transparent;\n",
              "      border-left-color: var(--fill-color);\n",
              "      border-top-color: var(--fill-color);\n",
              "    }\n",
              "    30% {\n",
              "      border-color: transparent;\n",
              "      border-left-color: var(--fill-color);\n",
              "      border-top-color: var(--fill-color);\n",
              "      border-right-color: var(--fill-color);\n",
              "    }\n",
              "    40% {\n",
              "      border-color: transparent;\n",
              "      border-right-color: var(--fill-color);\n",
              "      border-top-color: var(--fill-color);\n",
              "    }\n",
              "    60% {\n",
              "      border-color: transparent;\n",
              "      border-right-color: var(--fill-color);\n",
              "    }\n",
              "    80% {\n",
              "      border-color: transparent;\n",
              "      border-right-color: var(--fill-color);\n",
              "      border-bottom-color: var(--fill-color);\n",
              "    }\n",
              "    90% {\n",
              "      border-color: transparent;\n",
              "      border-bottom-color: var(--fill-color);\n",
              "    }\n",
              "  }\n",
              "</style>\n",
              "\n",
              "  <script>\n",
              "    async function quickchart(key) {\n",
              "      const quickchartButtonEl =\n",
              "        document.querySelector('#' + key + ' button');\n",
              "      quickchartButtonEl.disabled = true;  // To prevent multiple clicks.\n",
              "      quickchartButtonEl.classList.add('colab-df-spinner');\n",
              "      try {\n",
              "        const charts = await google.colab.kernel.invokeFunction(\n",
              "            'suggestCharts', [key], {});\n",
              "      } catch (error) {\n",
              "        console.error('Error during call to suggestCharts:', error);\n",
              "      }\n",
              "      quickchartButtonEl.classList.remove('colab-df-spinner');\n",
              "      quickchartButtonEl.classList.add('colab-df-quickchart-complete');\n",
              "    }\n",
              "    (() => {\n",
              "      let quickchartButtonEl =\n",
              "        document.querySelector('#df-d559770a-bcd5-40e7-9057-e22d48978e7f button');\n",
              "      quickchartButtonEl.style.display =\n",
              "        google.colab.kernel.accessAllowed ? 'block' : 'none';\n",
              "    })();\n",
              "  </script>\n",
              "</div>\n",
              "    </div>\n",
              "  </div>\n"
            ]
          },
          "metadata": {},
          "execution_count": 32
        }
      ]
    },
    {
      "cell_type": "code",
      "source": [
        "loan.shape"
      ],
      "metadata": {
        "colab": {
          "base_uri": "https://localhost:8080/"
        },
        "id": "dPvYcsBuAH2B",
        "outputId": "436387ca-569f-4970-a490-d2caa5a8ae75"
      },
      "execution_count": 33,
      "outputs": [
        {
          "output_type": "execute_result",
          "data": {
            "text/plain": [
              "(39012, 13)"
            ]
          },
          "metadata": {},
          "execution_count": 33
        }
      ]
    },
    {
      "cell_type": "code",
      "source": [
        "loan.info()"
      ],
      "metadata": {
        "colab": {
          "base_uri": "https://localhost:8080/"
        },
        "id": "97tqikw0AfrP",
        "outputId": "f4867f70-2449-40c8-8170-17cb374b7997"
      },
      "execution_count": 37,
      "outputs": [
        {
          "output_type": "stream",
          "name": "stdout",
          "text": [
            "<class 'pandas.core.frame.DataFrame'>\n",
            "RangeIndex: 39012 entries, 0 to 39011\n",
            "Data columns (total 13 columns):\n",
            " #   Column                        Non-Null Count  Dtype  \n",
            "---  ------                        --------------  -----  \n",
            " 0   loan_id                       39012 non-null  object \n",
            " 1   user_id                       39012 non-null  object \n",
            " 2   amount                        39012 non-null  float64\n",
            " 3   number_of_payments            37066 non-null  float64\n",
            " 4   user_pinwheel_eligible_at_ap  39012 non-null  int64  \n",
            " 5   approval_type                 23305 non-null  object \n",
            " 6   application_start_ts          39012 non-null  object \n",
            " 7   application_complete_ts       27164 non-null  object \n",
            " 8   awaiting_payment_ts           18275 non-null  object \n",
            " 9   repayment_ts                  1499 non-null   object \n",
            " 10  canceled_ts                   36295 non-null  object \n",
            " 11  cancellation_type             36255 non-null  object \n",
            " 12  risk_tier_at_uw               39012 non-null  object \n",
            "dtypes: float64(2), int64(1), object(10)\n",
            "memory usage: 3.9+ MB\n"
          ]
        }
      ]
    },
    {
      "cell_type": "code",
      "source": [
        "user.head()\n"
      ],
      "metadata": {
        "colab": {
          "base_uri": "https://localhost:8080/",
          "height": 487
        },
        "id": "xRRD_CKon2ol",
        "outputId": "d5c1423c-fcc7-4319-f476-cadd1c33af84"
      },
      "execution_count": 34,
      "outputs": [
        {
          "output_type": "execute_result",
          "data": {
            "text/plain": [
              "                                user_id                   signup_dt  \\\n",
              "0  5f477f7c-3367-4bee-ba2c-f3b39a24c7cc  2020-10-13 00:06:21.603537   \n",
              "1  2752a3f2-0a96-42f9-bcc3-5fde7edec06b  2020-10-13 00:12:20.590843   \n",
              "2  7d8072a0-0c99-4eb7-8c6f-2c7d54ba52c7  2020-10-13 00:15:26.586054   \n",
              "3  0067c279-3b94-4867-ae51-aa182cfc8dc3  2020-10-13 00:17:16.041499   \n",
              "4  972e17fd-95b5-4bcc-8f17-c4323abd6c7b  2020-10-13 00:21:46.310764   \n",
              "\n",
              "                company_name  spending_limit_est  valid_phone_ind  \\\n",
              "0  Other > Add a new company              1000.0                1   \n",
              "1  Other > Add a new company               700.0                1   \n",
              "2                        NaN                 NaN                0   \n",
              "3  Other > Add a new company                 NaN                1   \n",
              "4                        NaN                 NaN                0   \n",
              "\n",
              "                   last_login  was_referred_ind first_paystub_dt  \\\n",
              "0  2022-11-22 01:21:08.832662                 0              NaN   \n",
              "1  2020-12-31 01:50:17.564992                 0              NaN   \n",
              "2  2020-10-13 00:15:27.200942                 0              NaN   \n",
              "3  2020-10-27 15:27:35.952604                 0              NaN   \n",
              "4  2020-10-13 00:21:46.398749                 0              NaN   \n",
              "\n",
              "   first_application_start_ts first_application_complete_ts  \\\n",
              "0                         NaN                           NaN   \n",
              "1  2020-12-31 01:50:18.097958                           NaN   \n",
              "2                         NaN                           NaN   \n",
              "3                         NaN                           NaN   \n",
              "4                         NaN                           NaN   \n",
              "\n",
              "  first_awaiting_payment_ts first_repayment_ts  \n",
              "0                       NaN                NaN  \n",
              "1                       NaN                NaN  \n",
              "2                       NaN                NaN  \n",
              "3                       NaN                NaN  \n",
              "4                       NaN                NaN  "
            ],
            "text/html": [
              "\n",
              "  <div id=\"df-16471810-d018-4ba6-a175-ac3125fa9d76\" class=\"colab-df-container\">\n",
              "    <div>\n",
              "<style scoped>\n",
              "    .dataframe tbody tr th:only-of-type {\n",
              "        vertical-align: middle;\n",
              "    }\n",
              "\n",
              "    .dataframe tbody tr th {\n",
              "        vertical-align: top;\n",
              "    }\n",
              "\n",
              "    .dataframe thead th {\n",
              "        text-align: right;\n",
              "    }\n",
              "</style>\n",
              "<table border=\"1\" class=\"dataframe\">\n",
              "  <thead>\n",
              "    <tr style=\"text-align: right;\">\n",
              "      <th></th>\n",
              "      <th>user_id</th>\n",
              "      <th>signup_dt</th>\n",
              "      <th>company_name</th>\n",
              "      <th>spending_limit_est</th>\n",
              "      <th>valid_phone_ind</th>\n",
              "      <th>last_login</th>\n",
              "      <th>was_referred_ind</th>\n",
              "      <th>first_paystub_dt</th>\n",
              "      <th>first_application_start_ts</th>\n",
              "      <th>first_application_complete_ts</th>\n",
              "      <th>first_awaiting_payment_ts</th>\n",
              "      <th>first_repayment_ts</th>\n",
              "    </tr>\n",
              "  </thead>\n",
              "  <tbody>\n",
              "    <tr>\n",
              "      <th>0</th>\n",
              "      <td>5f477f7c-3367-4bee-ba2c-f3b39a24c7cc</td>\n",
              "      <td>2020-10-13 00:06:21.603537</td>\n",
              "      <td>Other &gt; Add a new company</td>\n",
              "      <td>1000.0</td>\n",
              "      <td>1</td>\n",
              "      <td>2022-11-22 01:21:08.832662</td>\n",
              "      <td>0</td>\n",
              "      <td>NaN</td>\n",
              "      <td>NaN</td>\n",
              "      <td>NaN</td>\n",
              "      <td>NaN</td>\n",
              "      <td>NaN</td>\n",
              "    </tr>\n",
              "    <tr>\n",
              "      <th>1</th>\n",
              "      <td>2752a3f2-0a96-42f9-bcc3-5fde7edec06b</td>\n",
              "      <td>2020-10-13 00:12:20.590843</td>\n",
              "      <td>Other &gt; Add a new company</td>\n",
              "      <td>700.0</td>\n",
              "      <td>1</td>\n",
              "      <td>2020-12-31 01:50:17.564992</td>\n",
              "      <td>0</td>\n",
              "      <td>NaN</td>\n",
              "      <td>2020-12-31 01:50:18.097958</td>\n",
              "      <td>NaN</td>\n",
              "      <td>NaN</td>\n",
              "      <td>NaN</td>\n",
              "    </tr>\n",
              "    <tr>\n",
              "      <th>2</th>\n",
              "      <td>7d8072a0-0c99-4eb7-8c6f-2c7d54ba52c7</td>\n",
              "      <td>2020-10-13 00:15:26.586054</td>\n",
              "      <td>NaN</td>\n",
              "      <td>NaN</td>\n",
              "      <td>0</td>\n",
              "      <td>2020-10-13 00:15:27.200942</td>\n",
              "      <td>0</td>\n",
              "      <td>NaN</td>\n",
              "      <td>NaN</td>\n",
              "      <td>NaN</td>\n",
              "      <td>NaN</td>\n",
              "      <td>NaN</td>\n",
              "    </tr>\n",
              "    <tr>\n",
              "      <th>3</th>\n",
              "      <td>0067c279-3b94-4867-ae51-aa182cfc8dc3</td>\n",
              "      <td>2020-10-13 00:17:16.041499</td>\n",
              "      <td>Other &gt; Add a new company</td>\n",
              "      <td>NaN</td>\n",
              "      <td>1</td>\n",
              "      <td>2020-10-27 15:27:35.952604</td>\n",
              "      <td>0</td>\n",
              "      <td>NaN</td>\n",
              "      <td>NaN</td>\n",
              "      <td>NaN</td>\n",
              "      <td>NaN</td>\n",
              "      <td>NaN</td>\n",
              "    </tr>\n",
              "    <tr>\n",
              "      <th>4</th>\n",
              "      <td>972e17fd-95b5-4bcc-8f17-c4323abd6c7b</td>\n",
              "      <td>2020-10-13 00:21:46.310764</td>\n",
              "      <td>NaN</td>\n",
              "      <td>NaN</td>\n",
              "      <td>0</td>\n",
              "      <td>2020-10-13 00:21:46.398749</td>\n",
              "      <td>0</td>\n",
              "      <td>NaN</td>\n",
              "      <td>NaN</td>\n",
              "      <td>NaN</td>\n",
              "      <td>NaN</td>\n",
              "      <td>NaN</td>\n",
              "    </tr>\n",
              "  </tbody>\n",
              "</table>\n",
              "</div>\n",
              "    <div class=\"colab-df-buttons\">\n",
              "\n",
              "  <div class=\"colab-df-container\">\n",
              "    <button class=\"colab-df-convert\" onclick=\"convertToInteractive('df-16471810-d018-4ba6-a175-ac3125fa9d76')\"\n",
              "            title=\"Convert this dataframe to an interactive table.\"\n",
              "            style=\"display:none;\">\n",
              "\n",
              "  <svg xmlns=\"http://www.w3.org/2000/svg\" height=\"24px\" viewBox=\"0 -960 960 960\">\n",
              "    <path d=\"M120-120v-720h720v720H120Zm60-500h600v-160H180v160Zm220 220h160v-160H400v160Zm0 220h160v-160H400v160ZM180-400h160v-160H180v160Zm440 0h160v-160H620v160ZM180-180h160v-160H180v160Zm440 0h160v-160H620v160Z\"/>\n",
              "  </svg>\n",
              "    </button>\n",
              "\n",
              "  <style>\n",
              "    .colab-df-container {\n",
              "      display:flex;\n",
              "      gap: 12px;\n",
              "    }\n",
              "\n",
              "    .colab-df-convert {\n",
              "      background-color: #E8F0FE;\n",
              "      border: none;\n",
              "      border-radius: 50%;\n",
              "      cursor: pointer;\n",
              "      display: none;\n",
              "      fill: #1967D2;\n",
              "      height: 32px;\n",
              "      padding: 0 0 0 0;\n",
              "      width: 32px;\n",
              "    }\n",
              "\n",
              "    .colab-df-convert:hover {\n",
              "      background-color: #E2EBFA;\n",
              "      box-shadow: 0px 1px 2px rgba(60, 64, 67, 0.3), 0px 1px 3px 1px rgba(60, 64, 67, 0.15);\n",
              "      fill: #174EA6;\n",
              "    }\n",
              "\n",
              "    .colab-df-buttons div {\n",
              "      margin-bottom: 4px;\n",
              "    }\n",
              "\n",
              "    [theme=dark] .colab-df-convert {\n",
              "      background-color: #3B4455;\n",
              "      fill: #D2E3FC;\n",
              "    }\n",
              "\n",
              "    [theme=dark] .colab-df-convert:hover {\n",
              "      background-color: #434B5C;\n",
              "      box-shadow: 0px 1px 3px 1px rgba(0, 0, 0, 0.15);\n",
              "      filter: drop-shadow(0px 1px 2px rgba(0, 0, 0, 0.3));\n",
              "      fill: #FFFFFF;\n",
              "    }\n",
              "  </style>\n",
              "\n",
              "    <script>\n",
              "      const buttonEl =\n",
              "        document.querySelector('#df-16471810-d018-4ba6-a175-ac3125fa9d76 button.colab-df-convert');\n",
              "      buttonEl.style.display =\n",
              "        google.colab.kernel.accessAllowed ? 'block' : 'none';\n",
              "\n",
              "      async function convertToInteractive(key) {\n",
              "        const element = document.querySelector('#df-16471810-d018-4ba6-a175-ac3125fa9d76');\n",
              "        const dataTable =\n",
              "          await google.colab.kernel.invokeFunction('convertToInteractive',\n",
              "                                                    [key], {});\n",
              "        if (!dataTable) return;\n",
              "\n",
              "        const docLinkHtml = 'Like what you see? Visit the ' +\n",
              "          '<a target=\"_blank\" href=https://colab.research.google.com/notebooks/data_table.ipynb>data table notebook</a>'\n",
              "          + ' to learn more about interactive tables.';\n",
              "        element.innerHTML = '';\n",
              "        dataTable['output_type'] = 'display_data';\n",
              "        await google.colab.output.renderOutput(dataTable, element);\n",
              "        const docLink = document.createElement('div');\n",
              "        docLink.innerHTML = docLinkHtml;\n",
              "        element.appendChild(docLink);\n",
              "      }\n",
              "    </script>\n",
              "  </div>\n",
              "\n",
              "\n",
              "<div id=\"df-cc310b38-d48a-4ed6-819c-253e3e79058c\">\n",
              "  <button class=\"colab-df-quickchart\" onclick=\"quickchart('df-cc310b38-d48a-4ed6-819c-253e3e79058c')\"\n",
              "            title=\"Suggest charts.\"\n",
              "            style=\"display:none;\">\n",
              "\n",
              "<svg xmlns=\"http://www.w3.org/2000/svg\" height=\"24px\"viewBox=\"0 0 24 24\"\n",
              "     width=\"24px\">\n",
              "    <g>\n",
              "        <path d=\"M19 3H5c-1.1 0-2 .9-2 2v14c0 1.1.9 2 2 2h14c1.1 0 2-.9 2-2V5c0-1.1-.9-2-2-2zM9 17H7v-7h2v7zm4 0h-2V7h2v10zm4 0h-2v-4h2v4z\"/>\n",
              "    </g>\n",
              "</svg>\n",
              "  </button>\n",
              "\n",
              "<style>\n",
              "  .colab-df-quickchart {\n",
              "      --bg-color: #E8F0FE;\n",
              "      --fill-color: #1967D2;\n",
              "      --hover-bg-color: #E2EBFA;\n",
              "      --hover-fill-color: #174EA6;\n",
              "      --disabled-fill-color: #AAA;\n",
              "      --disabled-bg-color: #DDD;\n",
              "  }\n",
              "\n",
              "  [theme=dark] .colab-df-quickchart {\n",
              "      --bg-color: #3B4455;\n",
              "      --fill-color: #D2E3FC;\n",
              "      --hover-bg-color: #434B5C;\n",
              "      --hover-fill-color: #FFFFFF;\n",
              "      --disabled-bg-color: #3B4455;\n",
              "      --disabled-fill-color: #666;\n",
              "  }\n",
              "\n",
              "  .colab-df-quickchart {\n",
              "    background-color: var(--bg-color);\n",
              "    border: none;\n",
              "    border-radius: 50%;\n",
              "    cursor: pointer;\n",
              "    display: none;\n",
              "    fill: var(--fill-color);\n",
              "    height: 32px;\n",
              "    padding: 0;\n",
              "    width: 32px;\n",
              "  }\n",
              "\n",
              "  .colab-df-quickchart:hover {\n",
              "    background-color: var(--hover-bg-color);\n",
              "    box-shadow: 0 1px 2px rgba(60, 64, 67, 0.3), 0 1px 3px 1px rgba(60, 64, 67, 0.15);\n",
              "    fill: var(--button-hover-fill-color);\n",
              "  }\n",
              "\n",
              "  .colab-df-quickchart-complete:disabled,\n",
              "  .colab-df-quickchart-complete:disabled:hover {\n",
              "    background-color: var(--disabled-bg-color);\n",
              "    fill: var(--disabled-fill-color);\n",
              "    box-shadow: none;\n",
              "  }\n",
              "\n",
              "  .colab-df-spinner {\n",
              "    border: 2px solid var(--fill-color);\n",
              "    border-color: transparent;\n",
              "    border-bottom-color: var(--fill-color);\n",
              "    animation:\n",
              "      spin 1s steps(1) infinite;\n",
              "  }\n",
              "\n",
              "  @keyframes spin {\n",
              "    0% {\n",
              "      border-color: transparent;\n",
              "      border-bottom-color: var(--fill-color);\n",
              "      border-left-color: var(--fill-color);\n",
              "    }\n",
              "    20% {\n",
              "      border-color: transparent;\n",
              "      border-left-color: var(--fill-color);\n",
              "      border-top-color: var(--fill-color);\n",
              "    }\n",
              "    30% {\n",
              "      border-color: transparent;\n",
              "      border-left-color: var(--fill-color);\n",
              "      border-top-color: var(--fill-color);\n",
              "      border-right-color: var(--fill-color);\n",
              "    }\n",
              "    40% {\n",
              "      border-color: transparent;\n",
              "      border-right-color: var(--fill-color);\n",
              "      border-top-color: var(--fill-color);\n",
              "    }\n",
              "    60% {\n",
              "      border-color: transparent;\n",
              "      border-right-color: var(--fill-color);\n",
              "    }\n",
              "    80% {\n",
              "      border-color: transparent;\n",
              "      border-right-color: var(--fill-color);\n",
              "      border-bottom-color: var(--fill-color);\n",
              "    }\n",
              "    90% {\n",
              "      border-color: transparent;\n",
              "      border-bottom-color: var(--fill-color);\n",
              "    }\n",
              "  }\n",
              "</style>\n",
              "\n",
              "  <script>\n",
              "    async function quickchart(key) {\n",
              "      const quickchartButtonEl =\n",
              "        document.querySelector('#' + key + ' button');\n",
              "      quickchartButtonEl.disabled = true;  // To prevent multiple clicks.\n",
              "      quickchartButtonEl.classList.add('colab-df-spinner');\n",
              "      try {\n",
              "        const charts = await google.colab.kernel.invokeFunction(\n",
              "            'suggestCharts', [key], {});\n",
              "      } catch (error) {\n",
              "        console.error('Error during call to suggestCharts:', error);\n",
              "      }\n",
              "      quickchartButtonEl.classList.remove('colab-df-spinner');\n",
              "      quickchartButtonEl.classList.add('colab-df-quickchart-complete');\n",
              "    }\n",
              "    (() => {\n",
              "      let quickchartButtonEl =\n",
              "        document.querySelector('#df-cc310b38-d48a-4ed6-819c-253e3e79058c button');\n",
              "      quickchartButtonEl.style.display =\n",
              "        google.colab.kernel.accessAllowed ? 'block' : 'none';\n",
              "    })();\n",
              "  </script>\n",
              "</div>\n",
              "    </div>\n",
              "  </div>\n"
            ]
          },
          "metadata": {},
          "execution_count": 34
        }
      ]
    },
    {
      "cell_type": "code",
      "source": [
        "user.shape"
      ],
      "metadata": {
        "colab": {
          "base_uri": "https://localhost:8080/"
        },
        "id": "nUKqLCZ5AIt1",
        "outputId": "878644e9-9b25-4598-98e4-14e9d9c949cf"
      },
      "execution_count": 35,
      "outputs": [
        {
          "output_type": "execute_result",
          "data": {
            "text/plain": [
              "(95575, 12)"
            ]
          },
          "metadata": {},
          "execution_count": 35
        }
      ]
    },
    {
      "cell_type": "code",
      "source": [
        "#outer join dataset by user_id because very little columns overlap --> not necessary to join table for EDA\n",
        "#profiling the user\n",
        "  #active vs inactive --> last_login >= 2022 only?\n",
        "  #application start, application finish --> average time taken to finish loan application process --> can account for ppl with multiple loan apps completed by getting avg of all loans they completed,\n",
        "      # create new column with time taken from start to end, group by user id, aggregate columns by avg time taken\n",
        "  #how many users default on their loan aka. cancel loan column  #since most users using perpay are likely to be ppl who can't build their credit easily\n",
        "        # --> maybe expect more users in the dataset to default?\n",
        "        #\n",
        "\n",
        "\n"
      ],
      "metadata": {
        "id": "o9BQB9EEn2qx"
      },
      "execution_count": 5,
      "outputs": []
    },
    {
      "cell_type": "code",
      "source": [
        "user.info()"
      ],
      "metadata": {
        "colab": {
          "base_uri": "https://localhost:8080/"
        },
        "id": "CcDhhWx9DGhR",
        "outputId": "619b8c1f-3afd-4cc8-dd67-69b9a12bf586"
      },
      "execution_count": 38,
      "outputs": [
        {
          "output_type": "stream",
          "name": "stdout",
          "text": [
            "<class 'pandas.core.frame.DataFrame'>\n",
            "RangeIndex: 95575 entries, 0 to 95574\n",
            "Data columns (total 12 columns):\n",
            " #   Column                         Non-Null Count  Dtype  \n",
            "---  ------                         --------------  -----  \n",
            " 0   user_id                        95575 non-null  object \n",
            " 1   signup_dt                      95575 non-null  object \n",
            " 2   company_name                   86027 non-null  object \n",
            " 3   spending_limit_est             69055 non-null  float64\n",
            " 4   valid_phone_ind                95575 non-null  int64  \n",
            " 5   last_login                     95575 non-null  object \n",
            " 6   was_referred_ind               95575 non-null  int64  \n",
            " 7   first_paystub_dt               8839 non-null   object \n",
            " 8   first_application_start_ts     25105 non-null  object \n",
            " 9   first_application_complete_ts  18948 non-null  object \n",
            " 10  first_awaiting_payment_ts      14388 non-null  object \n",
            " 11  first_repayment_ts             1524 non-null   object \n",
            "dtypes: float64(1), int64(2), object(9)\n",
            "memory usage: 8.8+ MB\n"
          ]
        }
      ]
    },
    {
      "cell_type": "code",
      "source": [
        "user_and_loan = pd.concat([user, loan], join = \"outer\")\n",
        "user_and_loan.head()\n",
        "user_and_loan.info()\n",
        "#user_and_loan[\"last_login\"].unique() #where the users work\n",
        "#no need to join data"
      ],
      "metadata": {
        "colab": {
          "base_uri": "https://localhost:8080/"
        },
        "id": "xKlc5YCvIfQh",
        "outputId": "c852f88f-d0e8-40f6-816d-760450f511ef"
      },
      "execution_count": 36,
      "outputs": [
        {
          "output_type": "stream",
          "name": "stdout",
          "text": [
            "<class 'pandas.core.frame.DataFrame'>\n",
            "Int64Index: 134587 entries, 0 to 39011\n",
            "Data columns (total 24 columns):\n",
            " #   Column                         Non-Null Count   Dtype  \n",
            "---  ------                         --------------   -----  \n",
            " 0   user_id                        134587 non-null  object \n",
            " 1   signup_dt                      95575 non-null   object \n",
            " 2   company_name                   86027 non-null   object \n",
            " 3   spending_limit_est             69055 non-null   float64\n",
            " 4   valid_phone_ind                95575 non-null   float64\n",
            " 5   last_login                     95575 non-null   object \n",
            " 6   was_referred_ind               95575 non-null   float64\n",
            " 7   first_paystub_dt               8839 non-null    object \n",
            " 8   first_application_start_ts     25105 non-null   object \n",
            " 9   first_application_complete_ts  18948 non-null   object \n",
            " 10  first_awaiting_payment_ts      14388 non-null   object \n",
            " 11  first_repayment_ts             1524 non-null    object \n",
            " 12  loan_id                        39012 non-null   object \n",
            " 13  amount                         39012 non-null   float64\n",
            " 14  number_of_payments             37066 non-null   float64\n",
            " 15  user_pinwheel_eligible_at_ap   39012 non-null   float64\n",
            " 16  approval_type                  23305 non-null   object \n",
            " 17  application_start_ts           39012 non-null   object \n",
            " 18  application_complete_ts        27164 non-null   object \n",
            " 19  awaiting_payment_ts            18275 non-null   object \n",
            " 20  repayment_ts                   1499 non-null    object \n",
            " 21  canceled_ts                    36295 non-null   object \n",
            " 22  cancellation_type              36255 non-null   object \n",
            " 23  risk_tier_at_uw                39012 non-null   object \n",
            "dtypes: float64(6), object(18)\n",
            "memory usage: 25.7+ MB\n"
          ]
        }
      ]
    },
    {
      "cell_type": "code",
      "source": [
        "activeUser = user\n",
        "activeUser['last_login_year'] = user[\"last_login\"].str.extract(r'(\\d{4})')\n",
        "activeUser['last_login_month'] = user[\"last_login\"].str.extract(r\"(?<=\\d{4}-)(\\d{2})\")\n",
        "activeUser['last_login_year'] = activeUser[\"last_login_year\"].astype(int)\n",
        "activeUser['last_login_month'] = activeUser[\"last_login_month\"].astype(int)\n",
        "seaborn = sns.lineplot(data= plot, x=\"last_login_year\", y=\"user_id\")\n",
        "seaborn.set_xticks(range(2020, 2024, 1)) #min login year, max login year -- i just hardcoded the values in\n",
        "plt.show()\n"
      ],
      "metadata": {
        "id": "nwNEr4OwI68y",
        "colab": {
          "base_uri": "https://localhost:8080/",
          "height": 450
        },
        "outputId": "738c59cd-b764-4e1f-fd23-fb732efcfe7a"
      },
      "execution_count": 26,
      "outputs": [
        {
          "output_type": "display_data",
          "data": {
            "text/plain": [
              "<Figure size 640x480 with 1 Axes>"
            ],
            "image/png": "[encoded data removed]"
          },
          "metadata": {}
        }
      ]
    },
    {
      "cell_type": "code",
      "source": [
        "lastLogin = activeUser.groupby(['last_login_year']).count()\n",
        "lastLogin\n",
        "lastLogin.filter(items=['user_id'])"
      ],
      "metadata": {
        "colab": {
          "base_uri": "https://localhost:8080/",
          "height": 206
        },
        "id": "YRoSilJCffzf",
        "outputId": "34d47c74-354d-4b6d-926f-fb2f719173ff"
      },
      "execution_count": 29,
      "outputs": [
        {
          "output_type": "execute_result",
          "data": {
            "text/plain": [
              "                 user_id\n",
              "last_login_year         \n",
              "2020               70493\n",
              "2021               12020\n",
              "2022               12032\n",
              "2023                1030"
            ],
            "text/html": [
              "\n",
              "  <div id=\"df-2d9459f0-aa67-48e3-bc73-0f26c5d1f4bf\" class=\"colab-df-container\">\n",
              "    <div>\n",
              "<style scoped>\n",
              "    .dataframe tbody tr th:only-of-type {\n",
              "        vertical-align: middle;\n",
              "    }\n",
              "\n",
              "    .dataframe tbody tr th {\n",
              "        vertical-align: top;\n",
              "    }\n",
              "\n",
              "    .dataframe thead th {\n",
              "        text-align: right;\n",
              "    }\n",
              "</style>\n",
              "<table border=\"1\" class=\"dataframe\">\n",
              "  <thead>\n",
              "    <tr style=\"text-align: right;\">\n",
              "      <th></th>\n",
              "      <th>user_id</th>\n",
              "    </tr>\n",
              "    <tr>\n",
              "      <th>last_login_year</th>\n",
              "      <th></th>\n",
              "    </tr>\n",
              "  </thead>\n",
              "  <tbody>\n",
              "    <tr>\n",
              "      <th>2020</th>\n",
              "      <td>70493</td>\n",
              "    </tr>\n",
              "    <tr>\n",
              "      <th>2021</th>\n",
              "      <td>12020</td>\n",
              "    </tr>\n",
              "    <tr>\n",
              "      <th>2022</th>\n",
              "      <td>12032</td>\n",
              "    </tr>\n",
              "    <tr>\n",
              "      <th>2023</th>\n",
              "      <td>1030</td>\n",
              "    </tr>\n",
              "  </tbody>\n",
              "</table>\n",
              "</div>\n",
              "    <div class=\"colab-df-buttons\">\n",
              "\n",
              "  <div class=\"colab-df-container\">\n",
              "    <button class=\"colab-df-convert\" onclick=\"convertToInteractive('df-2d9459f0-aa67-48e3-bc73-0f26c5d1f4bf')\"\n",
              "            title=\"Convert this dataframe to an interactive table.\"\n",
              "            style=\"display:none;\">\n",
              "\n",
              "  <svg xmlns=\"http://www.w3.org/2000/svg\" height=\"24px\" viewBox=\"0 -960 960 960\">\n",
              "    <path d=\"M120-120v-720h720v720H120Zm60-500h600v-160H180v160Zm220 220h160v-160H400v160Zm0 220h160v-160H400v160ZM180-400h160v-160H180v160Zm440 0h160v-160H620v160ZM180-180h160v-160H180v160Zm440 0h160v-160H620v160Z\"/>\n",
              "  </svg>\n",
              "    </button>\n",
              "\n",
              "  <style>\n",
              "    .colab-df-container {\n",
              "      display:flex;\n",
              "      gap: 12px;\n",
              "    }\n",
              "\n",
              "    .colab-df-convert {\n",
              "      background-color: #E8F0FE;\n",
              "      border: none;\n",
              "      border-radius: 50%;\n",
              "      cursor: pointer;\n",
              "      display: none;\n",
              "      fill: #1967D2;\n",
              "      height: 32px;\n",
              "      padding: 0 0 0 0;\n",
              "      width: 32px;\n",
              "    }\n",
              "\n",
              "    .colab-df-convert:hover {\n",
              "      background-color: #E2EBFA;\n",
              "      box-shadow: 0px 1px 2px rgba(60, 64, 67, 0.3), 0px 1px 3px 1px rgba(60, 64, 67, 0.15);\n",
              "      fill: #174EA6;\n",
              "    }\n",
              "\n",
              "    .colab-df-buttons div {\n",
              "      margin-bottom: 4px;\n",
              "    }\n",
              "\n",
              "    [theme=dark] .colab-df-convert {\n",
              "      background-color: #3B4455;\n",
              "      fill: #D2E3FC;\n",
              "    }\n",
              "\n",
              "    [theme=dark] .colab-df-convert:hover {\n",
              "      background-color: #434B5C;\n",
              "      box-shadow: 0px 1px 3px 1px rgba(0, 0, 0, 0.15);\n",
              "      filter: drop-shadow(0px 1px 2px rgba(0, 0, 0, 0.3));\n",
              "      fill: #FFFFFF;\n",
              "    }\n",
              "  </style>\n",
              "\n",
              "    <script>\n",
              "      const buttonEl =\n",
              "        document.querySelector('#df-2d9459f0-aa67-48e3-bc73-0f26c5d1f4bf button.colab-df-convert');\n",
              "      buttonEl.style.display =\n",
              "        google.colab.kernel.accessAllowed ? 'block' : 'none';\n",
              "\n",
              "      async function convertToInteractive(key) {\n",
              "        const element = document.querySelector('#df-2d9459f0-aa67-48e3-bc73-0f26c5d1f4bf');\n",
              "        const dataTable =\n",
              "          await google.colab.kernel.invokeFunction('convertToInteractive',\n",
              "                                                    [key], {});\n",
              "        if (!dataTable) return;\n",
              "\n",
              "        const docLinkHtml = 'Like what you see? Visit the ' +\n",
              "          '<a target=\"_blank\" href=https://colab.research.google.com/notebooks/data_table.ipynb>data table notebook</a>'\n",
              "          + ' to learn more about interactive tables.';\n",
              "        element.innerHTML = '';\n",
              "        dataTable['output_type'] = 'display_data';\n",
              "        await google.colab.output.renderOutput(dataTable, element);\n",
              "        const docLink = document.createElement('div');\n",
              "        docLink.innerHTML = docLinkHtml;\n",
              "        element.appendChild(docLink);\n",
              "      }\n",
              "    </script>\n",
              "  </div>\n",
              "\n",
              "\n",
              "<div id=\"df-272f7b59-fcdb-4e19-a159-d30de268f30c\">\n",
              "  <button class=\"colab-df-quickchart\" onclick=\"quickchart('df-272f7b59-fcdb-4e19-a159-d30de268f30c')\"\n",
              "            title=\"Suggest charts.\"\n",
              "            style=\"display:none;\">\n",
              "\n",
              "<svg xmlns=\"http://www.w3.org/2000/svg\" height=\"24px\"viewBox=\"0 0 24 24\"\n",
              "     width=\"24px\">\n",
              "    <g>\n",
              "        <path d=\"M19 3H5c-1.1 0-2 .9-2 2v14c0 1.1.9 2 2 2h14c1.1 0 2-.9 2-2V5c0-1.1-.9-2-2-2zM9 17H7v-7h2v7zm4 0h-2V7h2v10zm4 0h-2v-4h2v4z\"/>\n",
              "    </g>\n",
              "</svg>\n",
              "  </button>\n",
              "\n",
              "<style>\n",
              "  .colab-df-quickchart {\n",
              "      --bg-color: #E8F0FE;\n",
              "      --fill-color: #1967D2;\n",
              "      --hover-bg-color: #E2EBFA;\n",
              "      --hover-fill-color: #174EA6;\n",
              "      --disabled-fill-color: #AAA;\n",
              "      --disabled-bg-color: #DDD;\n",
              "  }\n",
              "\n",
              "  [theme=dark] .colab-df-quickchart {\n",
              "      --bg-color: #3B4455;\n",
              "      --fill-color: #D2E3FC;\n",
              "      --hover-bg-color: #434B5C;\n",
              "      --hover-fill-color: #FFFFFF;\n",
              "      --disabled-bg-color: #3B4455;\n",
              "      --disabled-fill-color: #666;\n",
              "  }\n",
              "\n",
              "  .colab-df-quickchart {\n",
              "    background-color: var(--bg-color);\n",
              "    border: none;\n",
              "    border-radius: 50%;\n",
              "    cursor: pointer;\n",
              "    display: none;\n",
              "    fill: var(--fill-color);\n",
              "    height: 32px;\n",
              "    padding: 0;\n",
              "    width: 32px;\n",
              "  }\n",
              "\n",
              "  .colab-df-quickchart:hover {\n",
              "    background-color: var(--hover-bg-color);\n",
              "    box-shadow: 0 1px 2px rgba(60, 64, 67, 0.3), 0 1px 3px 1px rgba(60, 64, 67, 0.15);\n",
              "    fill: var(--button-hover-fill-color);\n",
              "  }\n",
              "\n",
              "  .colab-df-quickchart-complete:disabled,\n",
              "  .colab-df-quickchart-complete:disabled:hover {\n",
              "    background-color: var(--disabled-bg-color);\n",
              "    fill: var(--disabled-fill-color);\n",
              "    box-shadow: none;\n",
              "  }\n",
              "\n",
              "  .colab-df-spinner {\n",
              "    border: 2px solid var(--fill-color);\n",
              "    border-color: transparent;\n",
              "    border-bottom-color: var(--fill-color);\n",
              "    animation:\n",
              "      spin 1s steps(1) infinite;\n",
              "  }\n",
              "\n",
              "  @keyframes spin {\n",
              "    0% {\n",
              "      border-color: transparent;\n",
              "      border-bottom-color: var(--fill-color);\n",
              "      border-left-color: var(--fill-color);\n",
              "    }\n",
              "    20% {\n",
              "      border-color: transparent;\n",
              "      border-left-color: var(--fill-color);\n",
              "      border-top-color: var(--fill-color);\n",
              "    }\n",
              "    30% {\n",
              "      border-color: transparent;\n",
              "      border-left-color: var(--fill-color);\n",
              "      border-top-color: var(--fill-color);\n",
              "      border-right-color: var(--fill-color);\n",
              "    }\n",
              "    40% {\n",
              "      border-color: transparent;\n",
              "      border-right-color: var(--fill-color);\n",
              "      border-top-color: var(--fill-color);\n",
              "    }\n",
              "    60% {\n",
              "      border-color: transparent;\n",
              "      border-right-color: var(--fill-color);\n",
              "    }\n",
              "    80% {\n",
              "      border-color: transparent;\n",
              "      border-right-color: var(--fill-color);\n",
              "      border-bottom-color: var(--fill-color);\n",
              "    }\n",
              "    90% {\n",
              "      border-color: transparent;\n",
              "      border-bottom-color: var(--fill-color);\n",
              "    }\n",
              "  }\n",
              "</style>\n",
              "\n",
              "  <script>\n",
              "    async function quickchart(key) {\n",
              "      const quickchartButtonEl =\n",
              "        document.querySelector('#' + key + ' button');\n",
              "      quickchartButtonEl.disabled = true;  // To prevent multiple clicks.\n",
              "      quickchartButtonEl.classList.add('colab-df-spinner');\n",
              "      try {\n",
              "        const charts = await google.colab.kernel.invokeFunction(\n",
              "            'suggestCharts', [key], {});\n",
              "      } catch (error) {\n",
              "        console.error('Error during call to suggestCharts:', error);\n",
              "      }\n",
              "      quickchartButtonEl.classList.remove('colab-df-spinner');\n",
              "      quickchartButtonEl.classList.add('colab-df-quickchart-complete');\n",
              "    }\n",
              "    (() => {\n",
              "      let quickchartButtonEl =\n",
              "        document.querySelector('#df-272f7b59-fcdb-4e19-a159-d30de268f30c button');\n",
              "      quickchartButtonEl.style.display =\n",
              "        google.colab.kernel.accessAllowed ? 'block' : 'none';\n",
              "    })();\n",
              "  </script>\n",
              "</div>\n",
              "    </div>\n",
              "  </div>\n"
            ]
          },
          "metadata": {},
          "execution_count": 29
        }
      ]
    },
    {
      "cell_type": "code",
      "source": [
        "#Proportion of number of loans cancelled vs all loans in dataset\n",
        "36255/ 39012"
      ],
      "metadata": {
        "id": "vo0RYVVXff6A",
        "colab": {
          "base_uri": "https://localhost:8080/"
        },
        "outputId": "cf0016ef-9d62-4dde-f241-a34594810679"
      },
      "execution_count": 41,
      "outputs": [
        {
          "output_type": "execute_result",
          "data": {
            "text/plain": [
              "0.929329437096278"
            ]
          },
          "metadata": {},
          "execution_count": 41
        }
      ]
    },
    {
      "cell_type": "code",
      "source": [
        "loan[\"cancellation_type\"].unique()"
      ],
      "metadata": {
        "colab": {
          "base_uri": "https://localhost:8080/"
        },
        "id": "c9uP-aCPEoK0",
        "outputId": "bf2dd28c-25d8-44cf-f13c-73af7e7ac459"
      },
      "execution_count": 9,
      "outputs": [
        {
          "output_type": "execute_result",
          "data": {
            "text/plain": [
              "array(['automated.verification', 'automated.application_started',\n",
              "       'automated.awaiting_payment', 'spending_limit_exceeded',\n",
              "       'qualify_test', 'remorse', 'didnt_realize_direct_deposit',\n",
              "       'deposit_failure', 'accident', 'automated.pending',\n",
              "       'duplicate_order', 'other_interests', nan, '1_covid_elevated_risk',\n",
              "       'magento.edit_order.cancel', 'purchased_elsewhere',\n",
              "       'automated.deactivate_user_request', 'deny'], dtype=object)"
            ]
          },
          "metadata": {},
          "execution_count": 9
        }
      ]
    },
    {
      "cell_type": "code",
      "source": [
        "cancelReasonCount = loan['cancellation_type'].value_counts()\n",
        "cancelReasonCount"
      ],
      "metadata": {
        "colab": {
          "base_uri": "https://localhost:8080/"
        },
        "id": "ryF-ky-tEoSo",
        "outputId": "676f2fe0-6427-44c1-f6ed-4de90497ef0d"
      },
      "execution_count": 10,
      "outputs": [
        {
          "output_type": "execute_result",
          "data": {
            "text/plain": [
              "automated.awaiting_payment           9715\n",
              "automated.application_started        7996\n",
              "automated.pending                    4455\n",
              "remorse                              3499\n",
              "qualify_test                         2345\n",
              "accident                             2065\n",
              "other_interests                      1649\n",
              "deposit_failure                      1229\n",
              "didnt_realize_direct_deposit          688\n",
              "automated.verification                563\n",
              "purchased_elsewhere                   507\n",
              "spending_limit_exceeded               505\n",
              "magento.edit_order.cancel             437\n",
              "duplicate_order                       418\n",
              "1_covid_elevated_risk                 143\n",
              "automated.deactivate_user_request      40\n",
              "deny                                    1\n",
              "Name: cancellation_type, dtype: int64"
            ]
          },
          "metadata": {},
          "execution_count": 10
        }
      ]
    },
    {
      "cell_type": "code",
      "source": [
        "cancelReason = loan[loan[\"cancellation_type\"].notna()]\n",
        "cancelReason.shape #36255\n",
        "#4455+ 7996 + 9715  22166\n"
      ],
      "metadata": {
        "colab": {
          "base_uri": "https://localhost:8080/"
        },
        "id": "4o3l8ZhaEoU-",
        "outputId": "d5516fea-2e4c-4ab9-a11f-efe606b3d1fb"
      },
      "execution_count": 11,
      "outputs": [
        {
          "output_type": "execute_result",
          "data": {
            "text/plain": [
              "(36255, 13)"
            ]
          },
          "metadata": {},
          "execution_count": 11
        }
      ]
    },
    {
      "cell_type": "markdown",
      "source": [
        "36255 loans were cancelled"
      ],
      "metadata": {
        "id": "C8w987mMQTgb"
      }
    },
    {
      "cell_type": "markdown",
      "source": [
        "The top 3 reasons why loans were being canceled was because of automated awaiting payments 9715/\n",
        "automated.application_started        7996\n",
        "automated.pending                    4455"
      ],
      "metadata": {
        "id": "b5AxkycsPU6a"
      }
    },
    {
      "cell_type": "markdown",
      "source": [
        "Around 13% of users in the dataset were last logged in in the year 2022."
      ],
      "metadata": {
        "id": "PhAtfnNj7zzz"
      }
    },
    {
      "cell_type": "code",
      "source": [
        "user_and_loan[\"risk_tier_at_uw\"].unique()\n",
        "#Why are these values either null or T0?"
      ],
      "metadata": {
        "colab": {
          "base_uri": "https://localhost:8080/"
        },
        "id": "uQc6TAp6u67l",
        "outputId": "a35f0a61-58c0-493c-a19c-030f64921c32"
      },
      "execution_count": 12,
      "outputs": [
        {
          "output_type": "execute_result",
          "data": {
            "text/plain": [
              "array([nan, 'T0'], dtype=object)"
            ]
          },
          "metadata": {},
          "execution_count": 12
        }
      ]
    },
    {
      "cell_type": "code",
      "source": [
        "loan.info()"
      ],
      "metadata": {
        "id": "pHEHzuF-21ko",
        "colab": {
          "base_uri": "https://localhost:8080/"
        },
        "outputId": "eea41667-2bea-43f3-9235-1fc2b857968a"
      },
      "execution_count": 13,
      "outputs": [
        {
          "output_type": "stream",
          "name": "stdout",
          "text": [
            "<class 'pandas.core.frame.DataFrame'>\n",
            "RangeIndex: 39012 entries, 0 to 39011\n",
            "Data columns (total 13 columns):\n",
            " #   Column                        Non-Null Count  Dtype  \n",
            "---  ------                        --------------  -----  \n",
            " 0   loan_id                       39012 non-null  object \n",
            " 1   user_id                       39012 non-null  object \n",
            " 2   amount                        39012 non-null  float64\n",
            " 3   number_of_payments            37066 non-null  float64\n",
            " 4   user_pinwheel_eligible_at_ap  39012 non-null  int64  \n",
            " 5   approval_type                 23305 non-null  object \n",
            " 6   application_start_ts          39012 non-null  object \n",
            " 7   application_complete_ts       27164 non-null  object \n",
            " 8   awaiting_payment_ts           18275 non-null  object \n",
            " 9   repayment_ts                  1499 non-null   object \n",
            " 10  canceled_ts                   36295 non-null  object \n",
            " 11  cancellation_type             36255 non-null  object \n",
            " 12  risk_tier_at_uw               39012 non-null  object \n",
            "dtypes: float64(2), int64(1), object(10)\n",
            "memory usage: 3.9+ MB\n"
          ]
        }
      ]
    },
    {
      "cell_type": "code",
      "source": [
        "loan[\"user_id\"].value_counts()"
      ],
      "metadata": {
        "colab": {
          "base_uri": "https://localhost:8080/"
        },
        "id": "-qMTHsIV-ck8",
        "outputId": "e407a90c-fe40-4e80-d013-5f98302d06c1"
      },
      "execution_count": 25,
      "outputs": [
        {
          "output_type": "execute_result",
          "data": {
            "text/plain": [
              "878dfd26-9fb9-4c64-8c3b-c8ce198e90bd    16\n",
              "c1953798-8853-4222-af59-e87e118e223a    11\n",
              "17c79457-eb70-4de3-8682-35e4c3116850    11\n",
              "6c0284cf-b47d-437e-9fbe-01de24096e0e    11\n",
              "5e303889-e3e6-4c99-8bc5-8a1fe2d9fab7     9\n",
              "                                        ..\n",
              "b1a138c4-f869-4842-8a2f-972970a7d865     1\n",
              "82f2585a-8a63-4fd5-a5ef-7c8c2e416e13     1\n",
              "1b01760a-0810-4f4e-8988-98874bd602f5     1\n",
              "55b66afa-299a-4a4c-9753-de12bcbe245f     1\n",
              "2ad3615a-81cf-4170-a036-c5a4c1eaeb11     1\n",
              "Name: user_id, Length: 31656, dtype: int64"
            ]
          },
          "metadata": {},
          "execution_count": 25
        }
      ]
    },
    {
      "cell_type": "code",
      "source": [
        "#approval type"
      ],
      "metadata": {
        "id": "_W51kW9UTeP8"
      },
      "execution_count": 14,
      "outputs": []
    },
    {
      "cell_type": "code",
      "source": [
        "loan[\"approval_type\"].value_counts()"
      ],
      "metadata": {
        "id": "2tCnK9BW3s_p",
        "colab": {
          "base_uri": "https://localhost:8080/"
        },
        "outputId": "45e8e327-41f7-4c75-d078-e3264829d816"
      },
      "execution_count": 15,
      "outputs": [
        {
          "output_type": "execute_result",
          "data": {
            "text/plain": [
              "underwriting.auto.ftb_decision          17761\n",
              "underwriting.manual_review               2740\n",
              "underwriting.manual.verification         1106\n",
              "underwriting.auto.deny                    920\n",
              "underwriting.manual.approve               662\n",
              "underwriting.manual.deny                  109\n",
              "underwriting.manual.override_approve        4\n",
              "underwriting.auto.approve                   3\n",
              "Name: approval_type, dtype: int64"
            ]
          },
          "metadata": {},
          "execution_count": 15
        }
      ]
    },
    {
      "cell_type": "code",
      "source": [
        "#Total loans: 23305\n",
        "920 + 109 #1029 loans denied\n",
        "23305 - 1029 # 22276 loans approved\n",
        "22276 / 23305"
      ],
      "metadata": {
        "id": "LJVF2Sxk3tBk",
        "colab": {
          "base_uri": "https://localhost:8080/"
        },
        "outputId": "3bd9a849-7a3d-432a-f6f9-9d319edd887a"
      },
      "execution_count": null,
      "outputs": [
        {
          "output_type": "execute_result",
          "data": {
            "text/plain": [
              "0.9558463848959451"
            ]
          },
          "metadata": {},
          "execution_count": 80
        }
      ]
    },
    {
      "cell_type": "code",
      "source": [
        "39012 - 23305"
      ],
      "metadata": {
        "id": "glD7yUre3tDo",
        "colab": {
          "base_uri": "https://localhost:8080/"
        },
        "outputId": "a96eb219-926a-43d7-edd7-a2d779f369f3"
      },
      "execution_count": null,
      "outputs": [
        {
          "output_type": "execute_result",
          "data": {
            "text/plain": [
              "15707"
            ]
          },
          "metadata": {},
          "execution_count": 73
        }
      ]
    },
    {
      "cell_type": "code",
      "source": [
        "15707 / 39012"
      ],
      "metadata": {
        "id": "aV5GFH8U3tFu",
        "colab": {
          "base_uri": "https://localhost:8080/"
        },
        "outputId": "2ebc9faa-93b9-49d9-90d4-873e86cef08b"
      },
      "execution_count": null,
      "outputs": [
        {
          "output_type": "execute_result",
          "data": {
            "text/plain": [
              "0.4026197067568953"
            ]
          },
          "metadata": {},
          "execution_count": 81
        }
      ]
    },
    {
      "cell_type": "code",
      "source": [
        "#Loan application conversion rate from start to finish\n",
        "#application_start_ts          39012\n",
        "#application_complete_ts       27164\n",
        "\n",
        "#Loan abandonment rate: 11848/ 39012\n",
        "11848/ 39012\n",
        "\n"
      ],
      "metadata": {
        "id": "C4oHvMPm3tHg",
        "colab": {
          "base_uri": "https://localhost:8080/"
        },
        "outputId": "8deaff3c-41de-4f61-dd50-463a35bf0998"
      },
      "execution_count": null,
      "outputs": [
        {
          "output_type": "execute_result",
          "data": {
            "text/plain": [
              "0.3037014252025018"
            ]
          },
          "metadata": {},
          "execution_count": 85
        }
      ]
    },
    {
      "cell_type": "code",
      "source": [
        "#Average time taken to finish loan application process\n",
        "avgLoan = loan\n",
        "avgLoan['date1'] = pd.to_datetime(avgLoan['application_start_ts'], format='%Y-%m-%d %H:%M:%S.%f')\n",
        "avgLoan['date2'] = pd.to_datetime(avgLoan['application_complete_ts'], format='%Y-%m-%d %H:%M:%S.%f')\n",
        "avgLoan['loan_completed_in_minutes'] = (avgLoan['date2'] - avgLoan['date1']).dt.seconds / 60\n",
        "avgLoan = avgLoan[avgLoan[\"loan_completed_in_minutes\"].notna()]\n",
        "mean = avgLoan[\"loan_completed_in_minutes\"].mean()\n",
        "median = avgLoan[\"loan_completed_in_minutes\"].median()\n",
        "print(\"Average time taken in minutes to complete loan application: {}\".format(mean))\n",
        "print(\"Median time taken in minutes to complete loan application: {}\".format(median))"
      ],
      "metadata": {
        "id": "9HrCLCG63tJe",
        "colab": {
          "base_uri": "https://localhost:8080/"
        },
        "outputId": "90209c4e-6b3e-49ab-b9b4-4831a0c8ef97"
      },
      "execution_count": 23,
      "outputs": [
        {
          "output_type": "stream",
          "name": "stdout",
          "text": [
            "Average time taken in minutes to complete loan application: 22.11926385412065\n",
            "Average time taken in minutes to complete loan application: 0.8666666666666667\n"
          ]
        }
      ]
    },
    {
      "cell_type": "code",
      "source": [
        "avgLoan.head()\n"
      ],
      "metadata": {
        "id": "xbsj8PqL3tLk",
        "colab": {
          "base_uri": "https://localhost:8080/",
          "height": 487
        },
        "outputId": "05f8c735-189a-481a-99a4-b7933683d921"
      },
      "execution_count": 42,
      "outputs": [
        {
          "output_type": "execute_result",
          "data": {
            "text/plain": [
              "                                 loan_id  \\\n",
              "0   27f95ba4-e56f-4222-bc92-d73bf8d7d669   \n",
              "2   71a279d5-5bce-4ea2-9e98-ec9d994256b1   \n",
              "8   e8998cbb-37ab-4180-93e9-d22b7855665f   \n",
              "9   0004ff34-d655-4f25-9104-6e108f454a13   \n",
              "11  6c4945bf-ed63-41ff-8fb8-641cb53310f3   \n",
              "\n",
              "                                 user_id  amount  number_of_payments  \\\n",
              "0   beca750a-2041-4c26-8154-6aa85ae9b245  471.48                 8.0   \n",
              "2   ef4ed8ea-17a4-4f41-a1fd-84b6fe09751f  523.98                 8.0   \n",
              "8   d000f3eb-50f3-482e-b7dc-0ab33e642d36  119.98                16.0   \n",
              "9   adb97add-9381-45f0-b31b-78687ce88bcb  509.98                 8.0   \n",
              "11  957bd9b4-a70b-4eba-94b0-b75fd39e0635  953.19                16.0   \n",
              "\n",
              "    user_pinwheel_eligible_at_ap                   approval_type  \\\n",
              "0                              0                             NaN   \n",
              "2                              1  underwriting.auto.ftb_decision   \n",
              "8                              1  underwriting.auto.ftb_decision   \n",
              "9                              0  underwriting.auto.ftb_decision   \n",
              "11                             1  underwriting.auto.ftb_decision   \n",
              "\n",
              "          application_start_ts     application_complete_ts  \\\n",
              "0    2020-10-13 00:04:43.64499  2020-10-13 00:08:29.744502   \n",
              "2   2020-10-13 00:26:48.749278  2020-10-13 00:27:53.698868   \n",
              "8   2020-10-13 02:39:53.554854   2020-10-13 02:41:07.58123   \n",
              "9   2020-10-13 02:53:08.831158  2020-10-13 02:58:08.171288   \n",
              "11  2020-10-13 03:22:20.637457   2020-10-13 03:25:10.48761   \n",
              "\n",
              "           awaiting_payment_ts repayment_ts                 canceled_ts  \\\n",
              "0                          NaN          NaN  2020-11-03 06:00:09.020005   \n",
              "2   2020-10-13 12:19:55.282708          NaN   2021-02-11 06:30:08.28502   \n",
              "8   2020-10-13 02:41:12.924726          NaN  2020-10-22 01:02:19.585083   \n",
              "9   2020-10-13 02:59:35.127466          NaN  2020-10-16 06:24:13.708774   \n",
              "11  2020-10-13 11:47:52.548097          NaN  2021-02-11 06:30:09.929995   \n",
              "\n",
              "               cancellation_type risk_tier_at_uw                      date1  \\\n",
              "0         automated.verification              T0 2020-10-13 00:04:43.644990   \n",
              "2     automated.awaiting_payment              T0 2020-10-13 00:26:48.749278   \n",
              "8                        remorse              T0 2020-10-13 02:39:53.554854   \n",
              "9   didnt_realize_direct_deposit              T0 2020-10-13 02:53:08.831158   \n",
              "11    automated.awaiting_payment              T0 2020-10-13 03:22:20.637457   \n",
              "\n",
              "                        date2  loan_completed_in_minutes  \n",
              "0  2020-10-13 00:08:29.744502                   3.766667  \n",
              "2  2020-10-13 00:27:53.698868                   1.066667  \n",
              "8  2020-10-13 02:41:07.581230                   1.233333  \n",
              "9  2020-10-13 02:58:08.171288                   4.983333  \n",
              "11 2020-10-13 03:25:10.487610                   2.816667  "
            ],
            "text/html": [
              "\n",
              "  <div id=\"df-c612a500-7598-4ac1-8bc3-38544a689ce5\" class=\"colab-df-container\">\n",
              "    <div>\n",
              "<style scoped>\n",
              "    .dataframe tbody tr th:only-of-type {\n",
              "        vertical-align: middle;\n",
              "    }\n",
              "\n",
              "    .dataframe tbody tr th {\n",
              "        vertical-align: top;\n",
              "    }\n",
              "\n",
              "    .dataframe thead th {\n",
              "        text-align: right;\n",
              "    }\n",
              "</style>\n",
              "<table border=\"1\" class=\"dataframe\">\n",
              "  <thead>\n",
              "    <tr style=\"text-align: right;\">\n",
              "      <th></th>\n",
              "      <th>loan_id</th>\n",
              "      <th>user_id</th>\n",
              "      <th>amount</th>\n",
              "      <th>number_of_payments</th>\n",
              "      <th>user_pinwheel_eligible_at_ap</th>\n",
              "      <th>approval_type</th>\n",
              "      <th>application_start_ts</th>\n",
              "      <th>application_complete_ts</th>\n",
              "      <th>awaiting_payment_ts</th>\n",
              "      <th>repayment_ts</th>\n",
              "      <th>canceled_ts</th>\n",
              "      <th>cancellation_type</th>\n",
              "      <th>risk_tier_at_uw</th>\n",
              "      <th>date1</th>\n",
              "      <th>date2</th>\n",
              "      <th>loan_completed_in_minutes</th>\n",
              "    </tr>\n",
              "  </thead>\n",
              "  <tbody>\n",
              "    <tr>\n",
              "      <th>0</th>\n",
              "      <td>27f95ba4-e56f-4222-bc92-d73bf8d7d669</td>\n",
              "      <td>beca750a-2041-4c26-8154-6aa85ae9b245</td>\n",
              "      <td>471.48</td>\n",
              "      <td>8.0</td>\n",
              "      <td>0</td>\n",
              "      <td>NaN</td>\n",
              "      <td>2020-10-13 00:04:43.64499</td>\n",
              "      <td>2020-10-13 00:08:29.744502</td>\n",
              "      <td>NaN</td>\n",
              "      <td>NaN</td>\n",
              "      <td>2020-11-03 06:00:09.020005</td>\n",
              "      <td>automated.verification</td>\n",
              "      <td>T0</td>\n",
              "      <td>2020-10-13 00:04:43.644990</td>\n",
              "      <td>2020-10-13 00:08:29.744502</td>\n",
              "      <td>3.766667</td>\n",
              "    </tr>\n",
              "    <tr>\n",
              "      <th>2</th>\n",
              "      <td>71a279d5-5bce-4ea2-9e98-ec9d994256b1</td>\n",
              "      <td>ef4ed8ea-17a4-4f41-a1fd-84b6fe09751f</td>\n",
              "      <td>523.98</td>\n",
              "      <td>8.0</td>\n",
              "      <td>1</td>\n",
              "      <td>underwriting.auto.ftb_decision</td>\n",
              "      <td>2020-10-13 00:26:48.749278</td>\n",
              "      <td>2020-10-13 00:27:53.698868</td>\n",
              "      <td>2020-10-13 12:19:55.282708</td>\n",
              "      <td>NaN</td>\n",
              "      <td>2021-02-11 06:30:08.28502</td>\n",
              "      <td>automated.awaiting_payment</td>\n",
              "      <td>T0</td>\n",
              "      <td>2020-10-13 00:26:48.749278</td>\n",
              "      <td>2020-10-13 00:27:53.698868</td>\n",
              "      <td>1.066667</td>\n",
              "    </tr>\n",
              "    <tr>\n",
              "      <th>8</th>\n",
              "      <td>e8998cbb-37ab-4180-93e9-d22b7855665f</td>\n",
              "      <td>d000f3eb-50f3-482e-b7dc-0ab33e642d36</td>\n",
              "      <td>119.98</td>\n",
              "      <td>16.0</td>\n",
              "      <td>1</td>\n",
              "      <td>underwriting.auto.ftb_decision</td>\n",
              "      <td>2020-10-13 02:39:53.554854</td>\n",
              "      <td>2020-10-13 02:41:07.58123</td>\n",
              "      <td>2020-10-13 02:41:12.924726</td>\n",
              "      <td>NaN</td>\n",
              "      <td>2020-10-22 01:02:19.585083</td>\n",
              "      <td>remorse</td>\n",
              "      <td>T0</td>\n",
              "      <td>2020-10-13 02:39:53.554854</td>\n",
              "      <td>2020-10-13 02:41:07.581230</td>\n",
              "      <td>1.233333</td>\n",
              "    </tr>\n",
              "    <tr>\n",
              "      <th>9</th>\n",
              "      <td>0004ff34-d655-4f25-9104-6e108f454a13</td>\n",
              "      <td>adb97add-9381-45f0-b31b-78687ce88bcb</td>\n",
              "      <td>509.98</td>\n",
              "      <td>8.0</td>\n",
              "      <td>0</td>\n",
              "      <td>underwriting.auto.ftb_decision</td>\n",
              "      <td>2020-10-13 02:53:08.831158</td>\n",
              "      <td>2020-10-13 02:58:08.171288</td>\n",
              "      <td>2020-10-13 02:59:35.127466</td>\n",
              "      <td>NaN</td>\n",
              "      <td>2020-10-16 06:24:13.708774</td>\n",
              "      <td>didnt_realize_direct_deposit</td>\n",
              "      <td>T0</td>\n",
              "      <td>2020-10-13 02:53:08.831158</td>\n",
              "      <td>2020-10-13 02:58:08.171288</td>\n",
              "      <td>4.983333</td>\n",
              "    </tr>\n",
              "    <tr>\n",
              "      <th>11</th>\n",
              "      <td>6c4945bf-ed63-41ff-8fb8-641cb53310f3</td>\n",
              "      <td>957bd9b4-a70b-4eba-94b0-b75fd39e0635</td>\n",
              "      <td>953.19</td>\n",
              "      <td>16.0</td>\n",
              "      <td>1</td>\n",
              "      <td>underwriting.auto.ftb_decision</td>\n",
              "      <td>2020-10-13 03:22:20.637457</td>\n",
              "      <td>2020-10-13 03:25:10.48761</td>\n",
              "      <td>2020-10-13 11:47:52.548097</td>\n",
              "      <td>NaN</td>\n",
              "      <td>2021-02-11 06:30:09.929995</td>\n",
              "      <td>automated.awaiting_payment</td>\n",
              "      <td>T0</td>\n",
              "      <td>2020-10-13 03:22:20.637457</td>\n",
              "      <td>2020-10-13 03:25:10.487610</td>\n",
              "      <td>2.816667</td>\n",
              "    </tr>\n",
              "  </tbody>\n",
              "</table>\n",
              "</div>\n",
              "    <div class=\"colab-df-buttons\">\n",
              "\n",
              "  <div class=\"colab-df-container\">\n",
              "    <button class=\"colab-df-convert\" onclick=\"convertToInteractive('df-c612a500-7598-4ac1-8bc3-38544a689ce5')\"\n",
              "            title=\"Convert this dataframe to an interactive table.\"\n",
              "            style=\"display:none;\">\n",
              "\n",
              "  <svg xmlns=\"http://www.w3.org/2000/svg\" height=\"24px\" viewBox=\"0 -960 960 960\">\n",
              "    <path d=\"M120-120v-720h720v720H120Zm60-500h600v-160H180v160Zm220 220h160v-160H400v160Zm0 220h160v-160H400v160ZM180-400h160v-160H180v160Zm440 0h160v-160H620v160ZM180-180h160v-160H180v160Zm440 0h160v-160H620v160Z\"/>\n",
              "  </svg>\n",
              "    </button>\n",
              "\n",
              "  <style>\n",
              "    .colab-df-container {\n",
              "      display:flex;\n",
              "      gap: 12px;\n",
              "    }\n",
              "\n",
              "    .colab-df-convert {\n",
              "      background-color: #E8F0FE;\n",
              "      border: none;\n",
              "      border-radius: 50%;\n",
              "      cursor: pointer;\n",
              "      display: none;\n",
              "      fill: #1967D2;\n",
              "      height: 32px;\n",
              "      padding: 0 0 0 0;\n",
              "      width: 32px;\n",
              "    }\n",
              "\n",
              "    .colab-df-convert:hover {\n",
              "      background-color: #E2EBFA;\n",
              "      box-shadow: 0px 1px 2px rgba(60, 64, 67, 0.3), 0px 1px 3px 1px rgba(60, 64, 67, 0.15);\n",
              "      fill: #174EA6;\n",
              "    }\n",
              "\n",
              "    .colab-df-buttons div {\n",
              "      margin-bottom: 4px;\n",
              "    }\n",
              "\n",
              "    [theme=dark] .colab-df-convert {\n",
              "      background-color: #3B4455;\n",
              "      fill: #D2E3FC;\n",
              "    }\n",
              "\n",
              "    [theme=dark] .colab-df-convert:hover {\n",
              "      background-color: #434B5C;\n",
              "      box-shadow: 0px 1px 3px 1px rgba(0, 0, 0, 0.15);\n",
              "      filter: drop-shadow(0px 1px 2px rgba(0, 0, 0, 0.3));\n",
              "      fill: #FFFFFF;\n",
              "    }\n",
              "  </style>\n",
              "\n",
              "    <script>\n",
              "      const buttonEl =\n",
              "        document.querySelector('#df-c612a500-7598-4ac1-8bc3-38544a689ce5 button.colab-df-convert');\n",
              "      buttonEl.style.display =\n",
              "        google.colab.kernel.accessAllowed ? 'block' : 'none';\n",
              "\n",
              "      async function convertToInteractive(key) {\n",
              "        const element = document.querySelector('#df-c612a500-7598-4ac1-8bc3-38544a689ce5');\n",
              "        const dataTable =\n",
              "          await google.colab.kernel.invokeFunction('convertToInteractive',\n",
              "                                                    [key], {});\n",
              "        if (!dataTable) return;\n",
              "\n",
              "        const docLinkHtml = 'Like what you see? Visit the ' +\n",
              "          '<a target=\"_blank\" href=https://colab.research.google.com/notebooks/data_table.ipynb>data table notebook</a>'\n",
              "          + ' to learn more about interactive tables.';\n",
              "        element.innerHTML = '';\n",
              "        dataTable['output_type'] = 'display_data';\n",
              "        await google.colab.output.renderOutput(dataTable, element);\n",
              "        const docLink = document.createElement('div');\n",
              "        docLink.innerHTML = docLinkHtml;\n",
              "        element.appendChild(docLink);\n",
              "      }\n",
              "    </script>\n",
              "  </div>\n",
              "\n",
              "\n",
              "<div id=\"df-ef6ed85f-8eae-4194-9083-362a69dfb58a\">\n",
              "  <button class=\"colab-df-quickchart\" onclick=\"quickchart('df-ef6ed85f-8eae-4194-9083-362a69dfb58a')\"\n",
              "            title=\"Suggest charts.\"\n",
              "            style=\"display:none;\">\n",
              "\n",
              "<svg xmlns=\"http://www.w3.org/2000/svg\" height=\"24px\"viewBox=\"0 0 24 24\"\n",
              "     width=\"24px\">\n",
              "    <g>\n",
              "        <path d=\"M19 3H5c-1.1 0-2 .9-2 2v14c0 1.1.9 2 2 2h14c1.1 0 2-.9 2-2V5c0-1.1-.9-2-2-2zM9 17H7v-7h2v7zm4 0h-2V7h2v10zm4 0h-2v-4h2v4z\"/>\n",
              "    </g>\n",
              "</svg>\n",
              "  </button>\n",
              "\n",
              "<style>\n",
              "  .colab-df-quickchart {\n",
              "      --bg-color: #E8F0FE;\n",
              "      --fill-color: #1967D2;\n",
              "      --hover-bg-color: #E2EBFA;\n",
              "      --hover-fill-color: #174EA6;\n",
              "      --disabled-fill-color: #AAA;\n",
              "      --disabled-bg-color: #DDD;\n",
              "  }\n",
              "\n",
              "  [theme=dark] .colab-df-quickchart {\n",
              "      --bg-color: #3B4455;\n",
              "      --fill-color: #D2E3FC;\n",
              "      --hover-bg-color: #434B5C;\n",
              "      --hover-fill-color: #FFFFFF;\n",
              "      --disabled-bg-color: #3B4455;\n",
              "      --disabled-fill-color: #666;\n",
              "  }\n",
              "\n",
              "  .colab-df-quickchart {\n",
              "    background-color: var(--bg-color);\n",
              "    border: none;\n",
              "    border-radius: 50%;\n",
              "    cursor: pointer;\n",
              "    display: none;\n",
              "    fill: var(--fill-color);\n",
              "    height: 32px;\n",
              "    padding: 0;\n",
              "    width: 32px;\n",
              "  }\n",
              "\n",
              "  .colab-df-quickchart:hover {\n",
              "    background-color: var(--hover-bg-color);\n",
              "    box-shadow: 0 1px 2px rgba(60, 64, 67, 0.3), 0 1px 3px 1px rgba(60, 64, 67, 0.15);\n",
              "    fill: var(--button-hover-fill-color);\n",
              "  }\n",
              "\n",
              "  .colab-df-quickchart-complete:disabled,\n",
              "  .colab-df-quickchart-complete:disabled:hover {\n",
              "    background-color: var(--disabled-bg-color);\n",
              "    fill: var(--disabled-fill-color);\n",
              "    box-shadow: none;\n",
              "  }\n",
              "\n",
              "  .colab-df-spinner {\n",
              "    border: 2px solid var(--fill-color);\n",
              "    border-color: transparent;\n",
              "    border-bottom-color: var(--fill-color);\n",
              "    animation:\n",
              "      spin 1s steps(1) infinite;\n",
              "  }\n",
              "\n",
              "  @keyframes spin {\n",
              "    0% {\n",
              "      border-color: transparent;\n",
              "      border-bottom-color: var(--fill-color);\n",
              "      border-left-color: var(--fill-color);\n",
              "    }\n",
              "    20% {\n",
              "      border-color: transparent;\n",
              "      border-left-color: var(--fill-color);\n",
              "      border-top-color: var(--fill-color);\n",
              "    }\n",
              "    30% {\n",
              "      border-color: transparent;\n",
              "      border-left-color: var(--fill-color);\n",
              "      border-top-color: var(--fill-color);\n",
              "      border-right-color: var(--fill-color);\n",
              "    }\n",
              "    40% {\n",
              "      border-color: transparent;\n",
              "      border-right-color: var(--fill-color);\n",
              "      border-top-color: var(--fill-color);\n",
              "    }\n",
              "    60% {\n",
              "      border-color: transparent;\n",
              "      border-right-color: var(--fill-color);\n",
              "    }\n",
              "    80% {\n",
              "      border-color: transparent;\n",
              "      border-right-color: var(--fill-color);\n",
              "      border-bottom-color: var(--fill-color);\n",
              "    }\n",
              "    90% {\n",
              "      border-color: transparent;\n",
              "      border-bottom-color: var(--fill-color);\n",
              "    }\n",
              "  }\n",
              "</style>\n",
              "\n",
              "  <script>\n",
              "    async function quickchart(key) {\n",
              "      const quickchartButtonEl =\n",
              "        document.querySelector('#' + key + ' button');\n",
              "      quickchartButtonEl.disabled = true;  // To prevent multiple clicks.\n",
              "      quickchartButtonEl.classList.add('colab-df-spinner');\n",
              "      try {\n",
              "        const charts = await google.colab.kernel.invokeFunction(\n",
              "            'suggestCharts', [key], {});\n",
              "      } catch (error) {\n",
              "        console.error('Error during call to suggestCharts:', error);\n",
              "      }\n",
              "      quickchartButtonEl.classList.remove('colab-df-spinner');\n",
              "      quickchartButtonEl.classList.add('colab-df-quickchart-complete');\n",
              "    }\n",
              "    (() => {\n",
              "      let quickchartButtonEl =\n",
              "        document.querySelector('#df-ef6ed85f-8eae-4194-9083-362a69dfb58a button');\n",
              "      quickchartButtonEl.style.display =\n",
              "        google.colab.kernel.accessAllowed ? 'block' : 'none';\n",
              "    })();\n",
              "  </script>\n",
              "</div>\n",
              "    </div>\n",
              "  </div>\n"
            ]
          },
          "metadata": {},
          "execution_count": 42
        }
      ]
    },
    {
      "cell_type": "code",
      "source": [
        "#dealing with Nan values --> don't want to lose data"
      ],
      "metadata": {
        "id": "3aX5N9Ur3tNq"
      },
      "execution_count": 43,
      "outputs": []
    },
    {
      "cell_type": "code",
      "source": [
        "#how many loans enter repayment within 15 days\n",
        "\n",
        "user_and_loan['date1'] = pd.to_datetime(user_and_loan['application_start_ts'], format='%Y-%m-%d %H:%M:%S.%f')\n",
        "user_and_loan['date2'] = pd.to_datetime(user_and_loan['repayment_ts'], format='%Y-%m-%d %H:%M:%S.%f')\n",
        "user_and_loan['date_diff_days'] = (user_and_loan['date2'] - user_and_loan['date1']).dt.days\n",
        "user_and_loan = user_and_loan[user_and_loan[\"date_diff_days\"].notna()]\n",
        "user_and_loan.shape[0] #1499\n",
        "\n",
        "\n",
        "\n"
      ],
      "metadata": {
        "id": "La5XvfXZ3tPd",
        "colab": {
          "base_uri": "https://localhost:8080/"
        },
        "outputId": "52e223ca-0cc2-4755-c74b-15873f605078"
      },
      "execution_count": 44,
      "outputs": [
        {
          "output_type": "execute_result",
          "data": {
            "text/plain": [
              "1499"
            ]
          },
          "metadata": {},
          "execution_count": 44
        }
      ]
    },
    {
      "cell_type": "code",
      "source": [
        "user_and_loan = user_and_loan[user_and_loan['date_diff_days'] <= 15]\n",
        "user_and_loan.shape[0] #1039\n"
      ],
      "metadata": {
        "colab": {
          "base_uri": "https://localhost:8080/"
        },
        "id": "7aaKOAsu5Zgm",
        "outputId": "79808bc2-42e8-411f-a1f3-4ce1951cae59"
      },
      "execution_count": 45,
      "outputs": [
        {
          "output_type": "execute_result",
          "data": {
            "text/plain": [
              "1039"
            ]
          },
          "metadata": {},
          "execution_count": 45
        }
      ]
    },
    {
      "cell_type": "code",
      "source": [],
      "metadata": {
        "id": "_XWKEfazB9LT"
      },
      "execution_count": 45,
      "outputs": []
    },
    {
      "cell_type": "code",
      "source": [
        "loan['date1'] = pd.to_datetime(loan['application_start_ts'], format='%Y-%m-%d %H:%M:%S.%f')\n",
        "loan['date2'] = pd.to_datetime(loan['repayment_ts'], format='%Y-%m-%d %H:%M:%S.%f')\n",
        "loan['date_diff_days'] = (loan['date2'] - loan['date1']).dt.days\n",
        "loan = loan[loan[\"date_diff_days\"].notna()]\n",
        "loan.shape[0] #1499\n",
        "\n"
      ],
      "metadata": {
        "colab": {
          "base_uri": "https://localhost:8080/"
        },
        "id": "3NZhF3El332-",
        "outputId": "3f0f6858-9283-40cd-a4d8-bfb860db24a2"
      },
      "execution_count": 46,
      "outputs": [
        {
          "output_type": "execute_result",
          "data": {
            "text/plain": [
              "1499"
            ]
          },
          "metadata": {},
          "execution_count": 46
        }
      ]
    },
    {
      "cell_type": "code",
      "source": [
        "loan = loan[loan['date_diff_days'] <= 15]\n",
        "loan.shape[0] #1499"
      ],
      "metadata": {
        "colab": {
          "base_uri": "https://localhost:8080/"
        },
        "id": "PcDia7fQ-1Mb",
        "outputId": "a7563a30-ea3e-4500-fab1-571ae85d5719"
      },
      "execution_count": 47,
      "outputs": [
        {
          "output_type": "execute_result",
          "data": {
            "text/plain": [
              "1039"
            ]
          },
          "metadata": {},
          "execution_count": 47
        }
      ]
    },
    {
      "cell_type": "code",
      "source": [
        "1039/1499"
      ],
      "metadata": {
        "colab": {
          "base_uri": "https://localhost:8080/"
        },
        "id": "__i9bv8mAUWd",
        "outputId": "672a0b86-f80d-480a-87ff-9afbf242fac3"
      },
      "execution_count": 48,
      "outputs": [
        {
          "output_type": "execute_result",
          "data": {
            "text/plain": [
              "0.6931287525016678"
            ]
          },
          "metadata": {},
          "execution_count": 48
        }
      ]
    },
    {
      "cell_type": "markdown",
      "source": [
        "With the given dataset, I filtered all the Nan values from the repayment_ts column, which decreased the dataset significantly from 39012 rows to only 1499 rows. Amongst the remaining data with 1499 rows,about 69% (1039/1499) of loans enter repayment within 15 days of approval.\n",
        "\n",
        "\n",
        "\n"
      ],
      "metadata": {
        "id": "tGJIvdY2Ak_3"
      }
    },
    {
      "cell_type": "code",
      "source": [],
      "metadata": {
        "id": "6voiaZpTEfZj"
      },
      "execution_count": null,
      "outputs": []
    }
  ]
}